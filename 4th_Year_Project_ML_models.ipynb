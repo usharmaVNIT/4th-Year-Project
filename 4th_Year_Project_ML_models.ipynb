{
  "nbformat": 4,
  "nbformat_minor": 0,
  "metadata": {
    "colab": {
      "name": "4th Year Project ML models.ipynb",
      "provenance": [],
      "collapsed_sections": [],
      "authorship_tag": "ABX9TyOoTBUs8kDJtgWVZ8hZALk/",
      "include_colab_link": true
    },
    "kernelspec": {
      "name": "python3",
      "display_name": "Python 3"
    },
    "language_info": {
      "name": "python"
    }
  },
  "cells": [
    {
      "cell_type": "markdown",
      "metadata": {
        "id": "view-in-github",
        "colab_type": "text"
      },
      "source": [
        "<a href=\"https://colab.research.google.com/github/usharmaVNIT/4th-Year-Project/blob/main/4th_Year_Project_ML_models.ipynb\" target=\"_parent\"><img src=\"https://colab.research.google.com/assets/colab-badge.svg\" alt=\"Open In Colab\"/></a>"
      ]
    },
    {
      "cell_type": "markdown",
      "metadata": {
        "id": "DkBTX1mfX2AD"
      },
      "source": [
        "#Importing Data"
      ]
    },
    {
      "cell_type": "code",
      "metadata": {
        "colab": {
          "base_uri": "https://localhost:8080/"
        },
        "id": "0kVjRG1mSKe_",
        "outputId": "813485ad-a0f9-4f7d-fca3-9ff4be9d51ca"
      },
      "source": [
        "import pandas as pd\n",
        "import numpy as np\n",
        "\n",
        "# Reading feature vector from file\n",
        "raw_data = pd.read_csv('input_final.csv')\n",
        "raw_data.columns = [\"F\"+str(i) for i in range(1, len(raw_data.columns) + 1)]\n",
        "# raw_data = raw_data.sample(frac=1)\n",
        "print(raw_data.head())\n",
        "# Pre-processing the data\n",
        "features = raw_data.copy()\n",
        "features = features.iloc[:,:-1]\n",
        "labels = raw_data.iloc[:,-1:]\n",
        "\n",
        "print(features.head())\n",
        "print(labels.head())\n",
        "\n",
        "features = np.array(features)\n",
        "print(features)\n",
        "labels = np.array(labels)\n"
      ],
      "execution_count": 1,
      "outputs": [
        {
          "output_type": "stream",
          "name": "stdout",
          "text": [
            "           F1         F2         F3  ...         F79         F80  F81\n",
            "0  117.022451  95.567316  77.702550  ...  563.138096  372.219223    1\n",
            "1   40.962661  38.385066  32.198439  ...   66.484803   63.115706    1\n",
            "2   42.924978  39.831538  34.121057  ...   63.761359   52.928770    1\n",
            "3   36.683007  36.746411  30.111912  ...   57.602285   56.224384    1\n",
            "4   38.713092  35.626802  30.483209  ...   57.926560   57.894936    1\n",
            "\n",
            "[5 rows x 81 columns]\n",
            "           F1         F2         F3  ...        F78         F79         F80\n",
            "0  117.022451  95.567316  77.702550  ...  73.861975  563.138096  372.219223\n",
            "1   40.962661  38.385066  32.198439  ...   9.607606   66.484803   63.115706\n",
            "2   42.924978  39.831538  34.121057  ...  11.482237   63.761359   52.928770\n",
            "3   36.683007  36.746411  30.111912  ...   6.235513   57.602285   56.224384\n",
            "4   38.713092  35.626802  30.483209  ...   8.840690   57.926560   57.894936\n",
            "\n",
            "[5 rows x 80 columns]\n",
            "   F81\n",
            "0    1\n",
            "1    1\n",
            "2    1\n",
            "3    1\n",
            "4    1\n",
            "[[117.02245146  95.56731638  77.70254986 ...  73.86197523 563.13809625\n",
            "  372.21922322]\n",
            " [ 40.96266103  38.38506583  32.19843903 ...   9.60760649  66.48480322\n",
            "   63.11570638]\n",
            " [ 42.92497821  39.83153798  34.12105703 ...  11.48223703  63.76135877\n",
            "   52.92877004]\n",
            " ...\n",
            " [ 34.10758813  32.7355694   23.17637907 ...   5.25219521   9.20877033\n",
            "    5.07317251]\n",
            " [ 58.46903113  56.2261979   38.34903171 ...  21.75321224  14.6413101\n",
            "   15.73188311]\n",
            " [ 54.66687507  57.73432753  39.97113907 ...   5.73137076   8.99226143\n",
            "   12.38724838]]\n"
          ]
        }
      ]
    },
    {
      "cell_type": "markdown",
      "metadata": {
        "id": "PcJZ9-WSVney"
      },
      "source": [
        "#Train-Test"
      ]
    },
    {
      "cell_type": "code",
      "metadata": {
        "id": "9TqoV6ieVqcI"
      },
      "source": [
        "from sklearn.model_selection import train_test_split\n",
        "X_train, X_test, y_train, y_test = train_test_split(features, labels, test_size=0.1, random_state=42)"
      ],
      "execution_count": 2,
      "outputs": []
    },
    {
      "cell_type": "markdown",
      "metadata": {
        "id": "26H5-VCLVcAk"
      },
      "source": [
        "# Decision Tree"
      ]
    },
    {
      "cell_type": "markdown",
      "metadata": {
        "id": "CikEnhcjVfxm"
      },
      "source": [
        "##Normal Decision Tree"
      ]
    },
    {
      "cell_type": "code",
      "metadata": {
        "id": "XpCAC1caSygd"
      },
      "source": [
        "from sklearn import tree\n",
        "\n",
        "clf = tree.DecisionTreeClassifier()\n",
        "clf = clf.fit(X_train,y_train)"
      ],
      "execution_count": 3,
      "outputs": []
    },
    {
      "cell_type": "markdown",
      "metadata": {
        "id": "SnzBH78QVz5v"
      },
      "source": [
        "###Accuracy of normal Decision Tree"
      ]
    },
    {
      "cell_type": "code",
      "metadata": {
        "colab": {
          "base_uri": "https://localhost:8080/",
          "height": 37
        },
        "id": "_C-RKslKVzjN",
        "outputId": "e5800647-2cf6-4543-85d3-0a61510f1d16"
      },
      "source": [
        "from sklearn.metrics import accuracy_score\n",
        "pred = clf.predict(X_test)\n",
        "score = accuracy_score(y_test, pred)\n",
        "str(score*100)+' %'"
      ],
      "execution_count": 4,
      "outputs": [
        {
          "output_type": "execute_result",
          "data": {
            "application/vnd.google.colaboratory.intrinsic+json": {
              "type": "string"
            },
            "text/plain": [
              "'71.42857142857143 %'"
            ]
          },
          "metadata": {},
          "execution_count": 4
        }
      ]
    },
    {
      "cell_type": "code",
      "metadata": {
        "colab": {
          "base_uri": "https://localhost:8080/",
          "height": 707
        },
        "id": "WpyaPnNQTAmc",
        "outputId": "90432b61-738d-4363-df64-23e6faadb0a8"
      },
      "source": [
        "from IPython.display import Image  \n",
        "from sklearn.externals.six import StringIO  \n",
        "import pydotplus\n",
        "\n",
        "dot_data = StringIO()  \n",
        "fname = raw_data.columns[:-1]\n",
        "tree.export_graphviz(clf, out_file=dot_data,  \n",
        "                         feature_names=fname)  \n",
        "graph = pydotplus.graph_from_dot_data(dot_data.getvalue())  \n",
        "Image(graph.create_png())  \n"
      ],
      "execution_count": 5,
      "outputs": [
        {
          "output_type": "stream",
          "name": "stderr",
          "text": [
            "/usr/local/lib/python3.7/dist-packages/sklearn/externals/six.py:31: FutureWarning: The module is deprecated in version 0.21 and will be removed in version 0.23 since we've dropped support for Python 2.7. Please rely on the official version of six (https://pypi.org/project/six/).\n",
            "  \"(https://pypi.org/project/six/).\", FutureWarning)\n"
          ]
        },
        {
          "output_type": "execute_result",
          "data": {
            "image/png": "[encoded data removed]",
            "text/plain": [
              "<IPython.core.display.Image object>"
            ]
          },
          "metadata": {},
          "execution_count": 5
        }
      ]
    },
    {
      "cell_type": "markdown",
      "metadata": {
        "id": "Qm4PlscMWYHS"
      },
      "source": [
        "## Random Tree Forest\n",
        "### More Effective"
      ]
    },
    {
      "cell_type": "code",
      "metadata": {
        "colab": {
          "base_uri": "https://localhost:8080/"
        },
        "id": "ew8yZJr-TLvU",
        "outputId": "4d140db0-c2ed-4f64-bcf8-4931801a3fe4"
      },
      "source": [
        "from sklearn.ensemble import RandomForestClassifier\n",
        "random_clf = RandomForestClassifier(n_estimators=500)\n",
        "random_clf = random_clf.fit(X_train, y_train)\n"
      ],
      "execution_count": 6,
      "outputs": [
        {
          "output_type": "stream",
          "name": "stderr",
          "text": [
            "/usr/local/lib/python3.7/dist-packages/ipykernel_launcher.py:3: DataConversionWarning: A column-vector y was passed when a 1d array was expected. Please change the shape of y to (n_samples,), for example using ravel().\n",
            "  This is separate from the ipykernel package so we can avoid doing imports until\n"
          ]
        }
      ]
    },
    {
      "cell_type": "markdown",
      "metadata": {
        "id": "mOolCYeCWrsM"
      },
      "source": [
        "###Accuracy of Random Treee Forest"
      ]
    },
    {
      "cell_type": "code",
      "metadata": {
        "colab": {
          "base_uri": "https://localhost:8080/",
          "height": 37
        },
        "id": "luD-_ZZyTtED",
        "outputId": "67d637a4-ebf3-44b5-b770-aefa7003442e"
      },
      "source": [
        "pred = random_clf.predict(X_test)\n",
        "score = accuracy_score(y_test, pred)\n",
        "str(score*100)+' %'"
      ],
      "execution_count": 7,
      "outputs": [
        {
          "output_type": "execute_result",
          "data": {
            "application/vnd.google.colaboratory.intrinsic+json": {
              "type": "string"
            },
            "text/plain": [
              "'85.71428571428571 %'"
            ]
          },
          "metadata": {},
          "execution_count": 7
        }
      ]
    },
    {
      "cell_type": "markdown",
      "metadata": {
        "id": "LCLI-o4lagkK"
      },
      "source": [
        "#K-Means Clustering"
      ]
    },
    {
      "cell_type": "markdown",
      "metadata": {
        "id": "gtaVvhsZbnZy"
      },
      "source": [
        "##Training K-Means with 2 clusters"
      ]
    },
    {
      "cell_type": "code",
      "metadata": {
        "id": "giuYm04OWvM8"
      },
      "source": [
        "%matplotlib inline\n",
        "\n",
        "from sklearn.cluster import KMeans\n",
        "import matplotlib.pyplot as plt\n",
        "from sklearn.preprocessing import scale\n",
        "from numpy import random, float\n",
        "\n",
        "\n",
        "kmeans = KMeans(n_clusters=2)\n",
        "\n",
        "scaledFeatures = scale(features)\n",
        "\n",
        "kmeans = kmeans.fit(scaledFeatures)\n",
        "\n"
      ],
      "execution_count": 8,
      "outputs": []
    },
    {
      "cell_type": "markdown",
      "metadata": {
        "id": "KCzEEBY7bsFo"
      },
      "source": [
        "##Finding the majority cluster and assigning it as false"
      ]
    },
    {
      "cell_type": "code",
      "metadata": {
        "id": "nBJODe3dZR5Q"
      },
      "source": [
        "cnt = 0\n",
        "for e in kmeans.labels_:\n",
        "  if e == 0:\n",
        "    cnt-=1\n",
        "  else:\n",
        "    cnt+=1\n",
        "d = {}\n",
        "newLabels = []\n",
        "if cnt<0:\n",
        "  # newlabels = 1-labels\n",
        "  for e in labels:\n",
        "    if e == 0:\n",
        "      newLabels.append(0)\n",
        "    else:\n",
        "      newLabels.append(1)\n",
        "else:\n",
        "  for e in labels:\n",
        "    if e == 0:\n",
        "      newLabels.append(1)\n",
        "    else:\n",
        "      newLabels.append(0)\n",
        "newLabels = np.array(newLabels)"
      ],
      "execution_count": 9,
      "outputs": []
    },
    {
      "cell_type": "markdown",
      "metadata": {
        "id": "6msSYXVTcFlc"
      },
      "source": [
        "##Calculating the accuracy of K-Means"
      ]
    },
    {
      "cell_type": "code",
      "metadata": {
        "colab": {
          "base_uri": "https://localhost:8080/",
          "height": 37
        },
        "id": "roXp7-0zZdMa",
        "outputId": "74a9129d-0fed-4852-dac9-71b4a6a8a3ac"
      },
      "source": [
        "score = accuracy_score(newLabels, kmeans.labels_)\n",
        "str(score*100)+' %'"
      ],
      "execution_count": 10,
      "outputs": [
        {
          "output_type": "execute_result",
          "data": {
            "application/vnd.google.colaboratory.intrinsic+json": {
              "type": "string"
            },
            "text/plain": [
              "'45.714285714285715 %'"
            ]
          },
          "metadata": {},
          "execution_count": 10
        }
      ]
    }
  ]
}